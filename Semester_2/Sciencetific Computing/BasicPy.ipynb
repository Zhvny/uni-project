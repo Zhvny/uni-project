{
 "cells": [
  {
   "cell_type": "code",
   "execution_count": 26,
   "metadata": {},
   "outputs": [
    {
     "ename": "SyntaxError",
     "evalue": "invalid syntax (311837571.py, line 1)",
     "output_type": "error",
     "traceback": [
      "\u001b[1;36m  Cell \u001b[1;32mIn[26], line 1\u001b[1;36m\u001b[0m\n\u001b[1;33m    Halo ini sesi satu.\u001b[0m\n\u001b[1;37m         ^\u001b[0m\n\u001b[1;31mSyntaxError\u001b[0m\u001b[1;31m:\u001b[0m invalid syntax\n"
     ]
    }
   ],
   "source": [
    "Halo ini sesi satu."
   ]
  },
  {
   "cell_type": "code",
   "execution_count": null,
   "metadata": {},
   "outputs": [],
   "source": []
  },
  {
   "cell_type": "code",
   "execution_count": 5,
   "metadata": {},
   "outputs": [
    {
     "name": "stdout",
     "output_type": "stream",
     "text": [
      "Hello World!\n"
     ]
    }
   ],
   "source": [
    "# Output\n",
    "\n",
    "print(\"Hello World!\")"
   ]
  },
  {
   "cell_type": "code",
   "execution_count": 6,
   "metadata": {},
   "outputs": [
    {
     "name": "stdout",
     "output_type": "stream",
     "text": [
      "Please Enter Your Name: \n"
     ]
    }
   ],
   "source": [
    "# Input\n",
    "\n",
    "print(\"Please Enter Your Name: \")"
   ]
  },
  {
   "cell_type": "code",
   "execution_count": 28,
   "metadata": {},
   "outputs": [
    {
     "name": "stdout",
     "output_type": "stream",
     "text": [
      "5.25\n",
      "5\n",
      "6\n",
      "8\n",
      "13\n",
      "100\n"
     ]
    }
   ],
   "source": [
    "# Operator\n",
    "# + - / % *\n",
    "\n",
    "# ** digunakan untuk pemangkatan\n",
    "\n",
    "# // digunakan untuk membagi tanpa menghasilkan sisa\n",
    "# 5 / 2 = 2.5\n",
    "# 5 // 2 = 2\n",
    "\n",
    "print(21 / 4)\n",
    "print(21 // 4)\n",
    "\n",
    "print(2*3)\n",
    "print(2**3)\n",
    "\n",
    "num = 10\n",
    "num += 3\n",
    "print(num)\n",
    "\n",
    "num1 = 10\n",
    "num1 **= 2\n",
    "print(num1)"
   ]
  },
  {
   "cell_type": "code",
   "execution_count": 27,
   "metadata": {},
   "outputs": [
    {
     "name": "stdout",
     "output_type": "stream",
     "text": [
      "False\n",
      "True\n",
      "False\n"
     ]
    }
   ],
   "source": [
    "# Booelan \n",
    "# and or not\n",
    "a = True\n",
    "b = False\n",
    "\n",
    "print(a and b)\n",
    "print(a or b)\n",
    "print(not a or b)"
   ]
  },
  {
   "cell_type": "code",
   "execution_count": 9,
   "metadata": {},
   "outputs": [
    {
     "name": "stdout",
     "output_type": "stream",
     "text": [
      "max\n",
      "My Age is a\n",
      "0\n"
     ]
    }
   ],
   "source": [
    "# Variable\n",
    "\n",
    "name = \"max\"\n",
    "print(name)\n",
    "\n",
    "age = input(\"Please Enter Your Age: \")\n",
    "print(\"My Age is \" + age)\n",
    "\n",
    "name = 0\n",
    "print(name) # Flexible variable (ga perlu declare interger atau char)"
   ]
  },
  {
   "cell_type": "code",
   "execution_count": 25,
   "metadata": {},
   "outputs": [
    {
     "name": "stdout",
     "output_type": "stream",
     "text": [
      "Num is 3.\n"
     ]
    }
   ],
   "source": [
    "# Selection\n",
    "\n",
    "num = 3\n",
    "if num < 3: \n",
    "    print(\"Num is Smaller than 3.\")\n",
    "elif num > 3:\n",
    "    print(\"num is Bigger than 3.\")\n",
    "elif num == 3:\n",
    "    print(\"Num is 3.\")\n",
    "else:\n",
    "    print(\"Hytam !\")"
   ]
  },
  {
   "cell_type": "code",
   "execution_count": null,
   "metadata": {},
   "outputs": [],
   "source": [
    "# Switch\n",
    "\n",
    "number = 1\n",
    "\n",
    "match number:\n",
    "    case 1:\n",
    "        print(\"Num is 1.\")\n",
    "    case 2:\n",
    "        print(\"Num is 2.\")"
   ]
  },
  {
   "cell_type": "code",
   "execution_count": 38,
   "metadata": {},
   "outputs": [
    {
     "name": "stdout",
     "output_type": "stream",
     "text": [
      "Hello!\n",
      "Hello!\n",
      "Hello!\n",
      "Hello!\n",
      "Hello!\n",
      "Hi!\n",
      "Hi!\n",
      "Hi!\n"
     ]
    }
   ],
   "source": [
    "# Repetition\n",
    "\n",
    "# range(1, 6) -> [1, 2, 3, 4, 5]\n",
    "for i in range(1, 6):\n",
    "    print(\"Hello!\")\n",
    "\n",
    "a = 3\n",
    "\n",
    "while a > 0:\n",
    "    print(\"Hi!\")\n",
    "    a -= 1"
   ]
  },
  {
   "cell_type": "code",
   "execution_count": 40,
   "metadata": {},
   "outputs": [
    {
     "name": "stdout",
     "output_type": "stream",
     "text": [
      "3\n"
     ]
    }
   ],
   "source": [
    "def sum (a, b):\n",
    "    result = a + b\n",
    "    return result\n",
    "\n",
    "# Bisa ngereturn apa aja / ga ngereturn apa2\n",
    "def test(a):\n",
    "    if a == 1:\n",
    "        return 1\n",
    "    if a == 2:\n",
    "        return \"a\"\n",
    "    if a == 3:\n",
    "        print(\"a\")\n",
    "\n",
    "print(sum(1, 2))"
   ]
  },
  {
   "cell_type": "code",
   "execution_count": 86,
   "metadata": {},
   "outputs": [
    {
     "name": "stdout",
     "output_type": "stream",
     "text": [
      "Hello!\n",
      "[0, -2, 3.4, 'Hello!', True]\n",
      "[0, -2, 3.4, 'Hello!', True, 1]\n",
      "[0, False, -2, 3.4, 'Hello!', True, 1]\n",
      "[0, False, -2, 3.4, 'Hello!', 1]\n"
     ]
    }
   ],
   "source": [
    "# List, Set, tuple, Dictionary\n",
    "\n",
    "\n",
    "# Mutable => List bisa diubah\n",
    "# Ordered => List dapat diurutkan\n",
    "\n",
    "#List (Mutable, Ordered)\n",
    "my_list = [1, -2, 3.4, \"Hello!\", True]\n",
    "print(my_list[3])\n",
    "\n",
    "my_list[0] = 0\n",
    "print(my_list)\n",
    "\n",
    "my_list.append(1)   # nambahin data di head\n",
    "print(my_list)\n",
    "\n",
    "my_list.insert(1, False)\n",
    "print(my_list)\n",
    "\n",
    "my_list.remove(True)\n",
    "print(my_list)"
   ]
  },
  {
   "cell_type": "code",
   "execution_count": 131,
   "metadata": {},
   "outputs": [
    {
     "name": "stdout",
     "output_type": "stream",
     "text": [
      "{1, 3.4, 'Hello!', -2}\n",
      "True\n",
      "{1, 3.4, 10, 'Hello!', -2}\n",
      "{1, 2, 3.4, 10, 'Hello!', -1, -2}\n",
      "{1, 2, 3.4, 10, 'Hello!', -2}\n"
     ]
    }
   ],
   "source": [
    "# Set (Mutable, Unordered)\n",
    "my_set = {1, -2, 3.4, \"Hello!\", True}\n",
    "print(my_set)\n",
    "\n",
    "print(1 in my_set)\n",
    "\n",
    "my_set.add(10)\n",
    "print(my_set)\n",
    "\n",
    "my_set.update({1, 2, -1})\n",
    "print(my_set)\n",
    "\n",
    "my_set.remove(-1)\n",
    "print(my_set)"
   ]
  },
  {
   "cell_type": "code",
   "execution_count": 132,
   "metadata": {},
   "outputs": [
    {
     "name": "stdout",
     "output_type": "stream",
     "text": [
      "2\n"
     ]
    }
   ],
   "source": [
    "# Tuple (Imutable, Ordered)\n",
    "my_tuple = (1, 2)\n",
    "\n",
    "print(my_tuple[1])  # Ga bisa di apa2in"
   ]
  },
  {
   "cell_type": "code",
   "execution_count": 6,
   "metadata": {},
   "outputs": [
    {
     "name": "stdout",
     "output_type": "stream",
     "text": [
      "Max\n"
     ]
    }
   ],
   "source": [
    "# Dictionary (key value) => Kaya struct\n",
    "\n",
    "mahasiswa = {\n",
    "    \"nim\": 1234567890,\n",
    "    \"nama\": \"Max\",\n",
    "    \"isDropOut\": True,\n",
    "    \"gpa\": 3.2\n",
    "}\n",
    "\n",
    "print(mahasiswa[\"nama\"])\n",
    "\n",
    "mahasiswa.update({\"gpa\": 4.0})\n"
   ]
  },
  {
   "cell_type": "code",
   "execution_count": 142,
   "metadata": {},
   "outputs": [
    {
     "name": "stdout",
     "output_type": "stream",
     "text": [
      "[2, 3, 4]\n",
      "[4, 5, 7]\n"
     ]
    }
   ],
   "source": [
    "number_list = [2, 3, 4, 5, 7]\n",
    "\n",
    "print(number_list[0:3])\n",
    "\n",
    "print(number_list[2:5])"
   ]
  }
 ],
 "metadata": {
  "kernelspec": {
   "display_name": "Python 3",
   "language": "python",
   "name": "python3"
  },
  "language_info": {
   "codemirror_mode": {
    "name": "ipython",
    "version": 3
   },
   "file_extension": ".py",
   "mimetype": "text/x-python",
   "name": "python",
   "nbconvert_exporter": "python",
   "pygments_lexer": "ipython3",
   "version": "3.13.2"
  }
 },
 "nbformat": 4,
 "nbformat_minor": 2
}
